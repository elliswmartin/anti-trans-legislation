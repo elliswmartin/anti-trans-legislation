{
 "cells": [
  {
   "cell_type": "code",
   "execution_count": 38,
   "metadata": {},
   "outputs": [],
   "source": [
    "# Choose your fighters\n",
    "import PyPDF2\n",
    "import os\n",
    "from sentence_transformers import SentenceTransformer, util, models\n",
    "from string2string.alignment import SmithWaterman\n",
    "from bs4 import BeautifulSoup\n",
    "from nltk.tokenize import sent_tokenize\n",
    "import os\n",
    "import openai\n",
    "import pickle\n",
    "import numpy as np\n",
    "import configparser\n",
    "import os\n",
    "from getpass import getpass"
   ]
  },
  {
   "cell_type": "code",
   "execution_count": 19,
   "metadata": {},
   "outputs": [],
   "source": [
    "def get_api_key(api_name):\n",
    "    config_file_path = os.path.expanduser(\"~/.notebook-api-keys\")\n",
    "    config = configparser.ConfigParser()\n",
    "    \n",
    "    # Try reading the existing config file\n",
    "    if os.path.exists(config_file_path):\n",
    "        config.read(config_file_path)\n",
    "    \n",
    "    # Check if API key is present\n",
    "    if config.has_option(\"API_KEYS\", api_name):\n",
    "        return config.get(\"API_KEYS\", api_name)\n",
    "    \n",
    "    # If not, prompt the user for the API key\n",
    "    api_key = getpass(f\"Enter your {api_name} API key: \")\n",
    "    \n",
    "    # Save the API key in the config file\n",
    "    if not config.has_section(\"API_KEYS\"):\n",
    "        config.add_section(\"API_KEYS\")\n",
    "    config.set(\"API_KEYS\", api_name, api_key)\n",
    "    \n",
    "    with open(config_file_path, \"w\") as f:\n",
    "        config.write(f)\n",
    "    \n",
    "    return api_key\n",
    "\n",
    "api_key = get_api_key(\"OpenAI\")"
   ]
  },
  {
   "cell_type": "code",
   "execution_count": 41,
   "metadata": {},
   "outputs": [
    {
     "data": {
      "application/vnd.jupyter.widget-view+json": {
       "model_id": "1860f32aad964483b10d74b5c52163ac",
       "version_major": 2,
       "version_minor": 0
      },
      "text/plain": [
       "Downloading .gitattributes:   0%|          | 0.00/1.18k [00:00<?, ?B/s]"
      ]
     },
     "metadata": {},
     "output_type": "display_data"
    },
    {
     "data": {
      "application/vnd.jupyter.widget-view+json": {
       "model_id": "a48bed3ac4a040d18972a90c4ed44e50",
       "version_major": 2,
       "version_minor": 0
      },
      "text/plain": [
       "Downloading 1_Pooling/config.json:   0%|          | 0.00/190 [00:00<?, ?B/s]"
      ]
     },
     "metadata": {},
     "output_type": "display_data"
    },
    {
     "data": {
      "application/vnd.jupyter.widget-view+json": {
       "model_id": "66fe4ecf8b3042c5bb3258e6f031deb9",
       "version_major": 2,
       "version_minor": 0
      },
      "text/plain": [
       "Downloading README.md:   0%|          | 0.00/10.6k [00:00<?, ?B/s]"
      ]
     },
     "metadata": {},
     "output_type": "display_data"
    },
    {
     "data": {
      "application/vnd.jupyter.widget-view+json": {
       "model_id": "54b9eef719c5400998359209250fd335",
       "version_major": 2,
       "version_minor": 0
      },
      "text/plain": [
       "Downloading config.json:   0%|          | 0.00/571 [00:00<?, ?B/s]"
      ]
     },
     "metadata": {},
     "output_type": "display_data"
    },
    {
     "data": {
      "application/vnd.jupyter.widget-view+json": {
       "model_id": "b401181eb3c7419996474647212a0986",
       "version_major": 2,
       "version_minor": 0
      },
      "text/plain": [
       "Downloading (…)ce_transformers.json:   0%|          | 0.00/116 [00:00<?, ?B/s]"
      ]
     },
     "metadata": {},
     "output_type": "display_data"
    },
    {
     "data": {
      "application/vnd.jupyter.widget-view+json": {
       "model_id": "cd1e5d6c2a2245d297427c7e8bf43d48",
       "version_major": 2,
       "version_minor": 0
      },
      "text/plain": [
       "Downloading data_config.json:   0%|          | 0.00/39.3k [00:00<?, ?B/s]"
      ]
     },
     "metadata": {},
     "output_type": "display_data"
    },
    {
     "data": {
      "application/vnd.jupyter.widget-view+json": {
       "model_id": "5559d1c407174d178e737f20d8e12b38",
       "version_major": 2,
       "version_minor": 0
      },
      "text/plain": [
       "Downloading pytorch_model.bin:   0%|          | 0.00/438M [00:00<?, ?B/s]"
      ]
     },
     "metadata": {},
     "output_type": "display_data"
    },
    {
     "data": {
      "application/vnd.jupyter.widget-view+json": {
       "model_id": "25c7e38b86bc4f358ac7e3ae7a82b91a",
       "version_major": 2,
       "version_minor": 0
      },
      "text/plain": [
       "Downloading (…)nce_bert_config.json:   0%|          | 0.00/53.0 [00:00<?, ?B/s]"
      ]
     },
     "metadata": {},
     "output_type": "display_data"
    },
    {
     "data": {
      "application/vnd.jupyter.widget-view+json": {
       "model_id": "ce20dc4e579742b79ee89b02c7a552f2",
       "version_major": 2,
       "version_minor": 0
      },
      "text/plain": [
       "Downloading (…)cial_tokens_map.json:   0%|          | 0.00/239 [00:00<?, ?B/s]"
      ]
     },
     "metadata": {},
     "output_type": "display_data"
    },
    {
     "data": {
      "application/vnd.jupyter.widget-view+json": {
       "model_id": "0df092790a0e46dda5dcea242f3ec1a3",
       "version_major": 2,
       "version_minor": 0
      },
      "text/plain": [
       "Downloading tokenizer.json:   0%|          | 0.00/466k [00:00<?, ?B/s]"
      ]
     },
     "metadata": {},
     "output_type": "display_data"
    },
    {
     "data": {
      "application/vnd.jupyter.widget-view+json": {
       "model_id": "9b5d2792f36c476ab74767909a908b73",
       "version_major": 2,
       "version_minor": 0
      },
      "text/plain": [
       "Downloading tokenizer_config.json:   0%|          | 0.00/363 [00:00<?, ?B/s]"
      ]
     },
     "metadata": {},
     "output_type": "display_data"
    },
    {
     "data": {
      "application/vnd.jupyter.widget-view+json": {
       "model_id": "590fab9eb3164762b495abb62241c344",
       "version_major": 2,
       "version_minor": 0
      },
      "text/plain": [
       "Downloading train_script.py:   0%|          | 0.00/13.1k [00:00<?, ?B/s]"
      ]
     },
     "metadata": {},
     "output_type": "display_data"
    },
    {
     "data": {
      "application/vnd.jupyter.widget-view+json": {
       "model_id": "932ed531a96740439bd9d3c48e9166d0",
       "version_major": 2,
       "version_minor": 0
      },
      "text/plain": [
       "Downloading vocab.txt:   0%|          | 0.00/232k [00:00<?, ?B/s]"
      ]
     },
     "metadata": {},
     "output_type": "display_data"
    },
    {
     "data": {
      "application/vnd.jupyter.widget-view+json": {
       "model_id": "84560da8c06343b9afd195e1e110c680",
       "version_major": 2,
       "version_minor": 0
      },
      "text/plain": [
       "Downloading modules.json:   0%|          | 0.00/349 [00:00<?, ?B/s]"
      ]
     },
     "metadata": {},
     "output_type": "display_data"
    },
    {
     "name": "stdout",
     "output_type": "stream",
     "text": [
      "384\n"
     ]
    }
   ],
   "source": [
    "cwd = os.getcwd()\n",
    "states = ['KY', 'CO', 'FL', 'MN', 'TX', 'SD', 'KS', 'NV', 'TN', 'NC', 'SC', 'MN']\n",
    "sbert = SentenceTransformer('all-mpnet-base-v2') #all-MiniLM-L12-v2 \n",
    "print(f\"SBERT max sequence length: {sbert.max_seq_length}\")\n",
    "\n",
    "sw = SmithWaterman(\n",
    "    match_weight=1, # weight for a match\n",
    "    mismatch_weight=0, # weight for a mismatch\n",
    "    gap_weight=0, # weight for a gap\n",
    "    gap_char='-' # character to use for a gap\n",
    ")"
   ]
  },
  {
   "cell_type": "code",
   "execution_count": 22,
   "metadata": {},
   "outputs": [],
   "source": [
    "# https://stackoverflow.com/questions/46975929/how-can-i-calculate-the-jaccard-similarity-of-two-lists-containing-strings-in-py\n",
    "\n",
    "# TODO swap with Tversky index ??\n",
    "def jaccard_similarity(list1, list2):\n",
    "    s1 = set(list1.split())\n",
    "    s2 = set(list2.split())\n",
    "    return float(len(s1.intersection(s2)) / len(s1.union(s2)))"
   ]
  },
  {
   "cell_type": "markdown",
   "metadata": {},
   "source": [
    "# Use ChatGPT to Clean and Segment Bills"
   ]
  },
  {
   "cell_type": "code",
   "execution_count": 24,
   "metadata": {},
   "outputs": [],
   "source": [
    "class ChatGPTWrapper:\n",
    "    def __init__(self, api_key, model_name=\"gpt-4-1106-preview\"): #\"gpt-3.5-turbo\"):\n",
    "        \"\"\"\n",
    "        Currently only handles single message sessions.\n",
    "        \"\"\"\n",
    "        self.model_name = model_name\n",
    "        openai.api_key = api_key\n",
    "   \n",
    "    def sample(self, text, temperature=0.8, max_tokens=1000):\n",
    "        metadata = {\"model\": self.model_name,\n",
    "          \"temperature\": temperature,\n",
    "          \"max_tokens\": max_tokens}\n",
    "\n",
    "        # sample from the openai model\n",
    "        r = openai.ChatCompletion.create(\n",
    "          messages = [\n",
    "            {\"role\": \"system\", \n",
    "             \"content\" : \"\"\"\n",
    "            Separate the given text into two Python lists.\n",
    "            List 1 should contain: Section labels (e.g. SECTION 1., §2),Subsection labels (e.g. (a), , A., i, 1.), \n",
    "            Summarizing headers (e.g. Bill Summary), \n",
    "            Boilerplate language (e.g. Be it enacted by...),\n",
    "            URLs\n",
    "            \n",
    "            List 2 should contain:\n",
    "            The bill summary sentences (e.g. 'Under current law, a person is subject to a claim of discrimination in places of public accommodation if the person restricts access to a sex-segregated place of public accommodation to individuals based on their biological sex.' 'The bill permits a person to restrict access to a sex-segregated locker room based on an individual’s actual, biological sex.'),\n",
    "            All other substantive bill content.\n",
    "            The focus should be on accurately categorizing boilerplate elements in List 1 and substantive content in List 2. \n",
    "            Do not add, remove or modify any text. \n",
    "\n",
    "            Return as two python lists in this format:\n",
    "            list1 = [\"section 1\", \"A\", \"NRS 695I.300\", ..., \"(A)\"]\n",
    "            list2 = [\"There is a longstanding history of restricting access to single-sex public facilities on the basis of sex.\", ...]\n",
    "            \"\"\"},\n",
    "            {\"role\": \"user\", \"content\": text}\n",
    "          ],\n",
    "          **metadata\n",
    "        )\n",
    "        return r['choices'][0][\"message\"][\"content\"]\n",
    "    \n",
    "wrapper = ChatGPTWrapper(api_key)"
   ]
  },
  {
   "cell_type": "code",
   "execution_count": 5,
   "metadata": {},
   "outputs": [],
   "source": [
    "# text = \"Children and young adults have natural and normal concerns about physical privacy when they are in various states of undress, and most wish for members of the opposite sex not to be present in those circumstances. Parents have a reasonable expectation that public schools in this State will not allow their minor children to be viewed in various states of undress by members of the opposite sex, nor allow their minor children to view members of the opposite sex in various states of undress. Public schools in this State have a duty to protect the dignity, health and welfare of the students in their care. Allowing students to use restrooms, locker rooms, and showers that are reserved for students of a different sex will create a significant potential for disruption of school activities and unsafe situations. Allowing students to use restrooms, locker rooms, and showers that are reserved for students of a different sex will create potential embarrassment, shame, and psychological injury to students. Public schools have a duty to respect and protect the privacy rights of their students. To further the State's interest in protecting all students in public schools in this State; To provide for the privacy needs of all students in public schools in this State; and to maintain order and dignity in restrooms, locker rooms, showers, and other facilities where students may be in various states of undress in the presence of other students. 'Sex' means the physical condition of being male or female, which is determined by a person's chromosomes, and is identified at birth by a person's anatomy. 'Public school' means a school subject to [INSERT RELEVANT CODE PROVISION AUTHORIZING THE CREATION AND SUPERVISION OF PUBLIC SCHOOLS]. Every public school student restroom, locker room, and shower room accessible by multiple students at the same time shall be designated for use by male students only or female students only. In all public schools in this State, student restrooms, locker rooms, and showers that are designated for one sex shall be used only by members of that sex. In any other public school facility or setting where a student may be in a state of undress in the presence of other students, school personnel shall provide separate, private areas designated for use by students based on their sex. Students who consistently assert to school officials that their gender is different from their sex, and whose parent or legal guardian provides written consent to school officials, shall be provided with the best available accommodation, but in no event shall that accommodation be access to student restrooms, locker rooms, or shower rooms designated for use by students of the opposite sex while students of the opposite sex are present or could be present. Acceptable accommodations may include, but are not limited to: access to single-stall bathrooms; access to uni-sex bathrooms; or controlled use of faculty bathrooms, locker rooms, or shower rooms. Students who access a public school restroom, locker room, or shower room designated for use by their sex have a right not to encounter a person of the opposite sex. Students aggrieved under this section who prevail in court may recover from the offending public school $2,500 for each instance in which they encountered a person of the opposite sex while accessing a public school student restroom, locker room, or shower room designated for use by the aggrieved students' sex. They may also recover monetary damages from the offending public school for all psychological, emotional, and physical harm suffered. Nothing in this Section shall limit other remedies at law or equity available to the aggrieved student against the school.\"\n",
    "# wrapper = ChatGPTWrapper(api_key)\n",
    "# result = wrapper.sample(text)"
   ]
  },
  {
   "cell_type": "code",
   "execution_count": 17,
   "metadata": {},
   "outputs": [],
   "source": [
    "subdir = os.path.join(cwd, \"bills\")\n",
    "responses = {}\n",
    "\n",
    "for bill in os.listdir(subdir)[:2]: # TODO currently just running 2 bills\n",
    "    filepath = os.path.join(subdir, bill)\n",
    "    filename, extension = os.path.splitext(filepath)\n",
    "    with open(filepath, \"rb\") as file:\n",
    "        if extension == \".pdf\":\n",
    "            reader = PyPDF2.PdfReader(file, strict=False)\n",
    "            text = \"\"\n",
    "            for page_num in range(len(reader.pages)):\n",
    "                page = reader.pages[page_num]\n",
    "                text += page.extract_text()\n",
    "                \n",
    "        elif extension == \".html\":\n",
    "            soup = BeautifulSoup(file, \"html.parser\")\n",
    "            text = soup.get_text(strip=True)\n",
    "        else:\n",
    "            print(f\"{filepath}: Unsupported file format\")\n",
    "        result = wrapper.sample(text)\n",
    "        responses[filename]=result\n",
    "        "
   ]
  },
  {
   "cell_type": "code",
   "execution_count": 20,
   "metadata": {},
   "outputs": [
    {
     "name": "stdout",
     "output_type": "stream",
     "text": [
      "List 1:\n",
      "- Reprinted with amendments adopted on April 16, 2015\n",
      "- FIRST REPRINT A.B. 375\n",
      "- *AB375_R1*\n",
      "- ASSEMBLY BILL NO. 375–A SSEMBLYWOMAN DOOLING\n",
      "- MARCH 17, 2015\n",
      "- JOINT SPONSOR : SENATOR HAMMOND\n",
      "- Referred to Committee on Education\n",
      "- SUMMARY—Revises certain provisions concerning public schools. (BDR 34-806)\n",
      "- FISCAL NOTE: Effect on Local Government: May have Fiscal Impact. Effect on the State: Yes.\n",
      "- EXPLANATION – Matter in bolded italics is new; matter between brackets [omitted material] is material to be omitted.\n",
      "- AN ACT relating to education; providing certain requirements for school facilities that are designated for use by persons of one biological sex; and providing other matters properly relating thereto.\n",
      "- Legislative Counsel’s Digest:\n",
      "- Section 1 of this bill requires that any school facility in a public school, 1 including a restroom, locker room or shower which is designated for use by persons 2 of one biological sex must only be used by persons of that biological sex, as 3 determined at birth. Section 1 also requires a public school to provide separate, 4 private areas designated for use by pupils based on their biological sex for any 5 school facility where pupils may be in a state of undress in the presence of other 6 pupils. For the purposes of section 1, section 3 of this bill provides an exception 7 from the provisions of existing law that otherwise make it unlawful to deny equal 8 access to places of public accommodation on the ground of gender identity or 9 expression. (NRS 651.070)\n",
      "- THE PEOPLE OF THE STATE OF NEVADA, REPRESENTED IN SENATE AND ASSEMBLY, DO ENACT AS FOLLOWS:\n",
      "- Section 1. Chapter 388 of NRS is hereby amended by adding 1 thereto a new section to read as follows: 2\n",
      "- 1. Any school facility in a public school, including, without 3 limitation, a restroom, locker room or shower which is designated 4 for use by persons of one biological sex must only be used by 1 persons of that biological sex. 2\n",
      "- 2. In any school facility or setting where a pupil may be in a 3 state of undress in the presence of other pupils, a public school 4 shall provide separate, private areas designated for use by pupils 5 based on their biological sex. 6\n",
      "- 3. For any pupil who asserts at school a gender that is 7 different than the pupil’s biological sex, a public school shall 8 provide the best available accommodation that meets the needs of 9 the pupil, but such accommodation must not include access to a 10 school restroom, locker room or shower designated for use by 11 persons whose biological sex is different from the pupil’s 12 biological sex. Such accommodation may include, without 13 limitation, access to a single-stall restroom, access to a unisex 14 restroom or controlled use of a faculty restroom, locker room or 15 shower. 16\n",
      "- 4. As used in this section, “biological sex” means the 17 biological condition of being male or female as determined at birth 18 based on physical differences or, if necessary, at the chromosomal 19 level. 20\n",
      "- Sec. 2. (Deleted by amendment.) 21\n",
      "- Sec. 3. NRS 651.070 is hereby amended to read as follows: 22\n",
      "- 651.070 [All] Except as otherwise provided in section 1 of 23 this act, all persons are entitled to the full and equal enjoyment of 24 the goods, services, facilities, privileges, advantages and 25 accommodations of any place of public accommodation, without 26 discrimination or segregation on the ground of race, color, religion, 27 national origin, disability, sexual orientation, sex, gender identity or 28 expression. 29\n",
      "- Sec. 4. This act becomes effective upon passage and approval 30 for the purpose of adopting any regulations and performing any 31 other preparatory administrative tasks to carry out the provisions of 32 this act, and on January 1, 2016, for all other purposes. 33\n",
      "- H\n",
      "\n",
      "List 2:\n",
      "- Section 1 of this bill requires that any school facility in a public school, 1 including a restroom, locker room or shower which is designated for use by persons 2 of one biological sex must only be used by persons of that biological sex, as 3 determined at birth. Section 1 also requires a public school to provide separate, 4 private areas designated for\n"
     ]
    }
   ],
   "source": [
    "print(responses['NV-AB375.pdf'])"
   ]
  },
  {
   "cell_type": "markdown",
   "metadata": {},
   "source": [
    "# Compare All Bills to ADF's Student Physical Privacy Act"
   ]
  },
  {
   "cell_type": "code",
   "execution_count": 25,
   "metadata": {},
   "outputs": [],
   "source": [
    "# Step 1: Save ADF's SPPA model legislation \n",
    "\n",
    "sppa = [\n",
    "\"Children and young adults have natural and normal concerns about physical privacy when they are in various states of undress, and most wish for members of the opposite sex not to be present in those circumstances.\",\n",
    "\"Parents have a reasonable expectation that public schools in this State will not allow their minor children to be viewed in various states of undress by members of the opposite sex, nor allow their minor children to view members of the opposite sex in various states of undress.\",\n",
    "\"Public schools in this State have a duty to protect the dignity, health and welfare of the students in their care.\",\n",
    "\"Allowing students to use restrooms, locker rooms, and showers that are reserved for students of a different sex will create a significant potential for disruption of school activities and unsafe situations.\",\n",
    "\"Allowing students to use restrooms, locker rooms, and showers that are reserved for students of a different sex will create potential embarrassment, shame, and psychological injury to students.\",\n",
    "\"Public schools have a duty to respect and protect the privacy rights of their students.\",\n",
    "\"To further the States interest in protecting all students in public schools in this State;\",\n",
    "\"To provide for the privacy needs of all students in public schools in this State; and to maintain order and dignity in restrooms, locker rooms, showers, and other facilities where students may be in various states of undress in the presence of other students.\",\n",
    "\"Sex means the physical condition of being male or female, which is determined by a persons chromosomes, and is identified at birth by a persons anatomy.\",\n",
    "\"Public school means a school subject to [INSERT RELEVANT CODE PROVISION AUTHORIZING THE CREATION AND SUPERVISION OF PUBLIC SCHOOLS].\",\n",
    "\"Every public school student restroom, locker room, and shower room accessible by multiple students at the same time shall be designated for use by male students only or female students only.\",\n",
    "\"In all public schools in this State, student restrooms, locker rooms, and showers that are designated for one sex shall be used only by members of that sex.\",\n",
    "\"In any other public school facility or setting where a student may be in a state of undress in the presence of other students, school personnel shall provide separate, private areas designated for use by students based on their sex.\",\n",
    "\"Students who consistently assert to school officials that their gender is different from their sex, and whose parent or legal guardian provides written consent to school officials, shall be provided with the best available accommodation, but in no event shall that accommodation be access to student restrooms, locker rooms, or shower rooms designated for use by students of the opposite sex while students of the opposite sex are present or could be present.\",\n",
    "\"Acceptable accommodations may include, but are not limited to: access to single-stall bathrooms; access to uni-sex bathrooms; or controlled use of faculty bathrooms, locker rooms, or shower rooms.\",\n",
    "\"Students who access a public school restroom, locker room, or shower room designated for use by their sex have a right not to encounter a person of the opposite sex.\",\n",
    "\"Students aggrieved under this section who prevail in court may recover from the offending public school $2,500 for each instance in which they encountered a person of the opposite sex while accessing a public school student restroom, locker room, or shower room designated for use by the aggrieved students sex.\",\n",
    "\"They may also recover monetary damages from the offending public school for all psychological, emotional, and physical harm suffered.\",\n",
    "\"Nothing in this Section shall limit other remedies at law or equity available to the aggrieved student against the school.\"\n",
    "]\n",
    "\n",
    "TX_HB2801 = [\n",
    "\"AN ACT TO provide for single‐sex multiple occupancy bathroom and changing facilities in schools and public agencies and to CREATE statewide consistency in regulation of employment and public ACCOMMODATIONS.\",\n",
    "\"Multiple occupancy bathroom or changing facility.\",\n",
    "\"Single occupancy bathroom or changing facility.\",\n",
    "\"Single‐Sex Multiple Occupancy Bathroom and Changing Facilities.\",\n",
    "\"For custodial purposes.\",\n",
    "\"For maintenance or inspection purposes.\",\n",
    "\"To render medical assistance.\",\n",
    "\"To accompany a student needing assistance when the assisting individual is an employee or authorized volunteer of the local board of education or the students parent or authorized caregiver.\",\n",
    "\"To receive assistance in using the facility.\",\n",
    "\"To accompany a person other than a student needing assistance.\",\n",
    "\"That has been temporarily designated for use by that persons biological sex.\",\n",
    "\"Single‐Sex Multiple Occupancy Bathroom and Changing Facilities.\",\n",
    "\"Executive branch agency.\",\n",
    "\"Multiple occupancy bathroom or changing facility.\",\n",
    "\"Single occupancy bathroom or changing facility. \",\n",
    "\"Single‐Sex Multiple Occupancy Bathroom and Changing Facilities.\",\n",
    "\"Statewide Consistency in laws related to Employment and contracting\",\n",
    "\"The provisions of this Article supersede and preempt any ordinance, regulation, resolution, or policy adopted or imposed by a unit of local government or other political subdivision of the State that regulates or imposes any requirement upon an employer pertaining to compensation of employees, such as the wage levels of employees, hours of labor, payment of earned wages, benefits, leave, or well‐being of minors in the workforce.\",\n",
    "\"local governments preempted.\",\n",
    "\"A city may not require a private contractor under this section to abide by regulations or controls on the contractors employment practices or mandate or prohibit the provision of goods, services, or accommodations to any member of the public as a condition of bidding on a contract or a qualification‐based selection, except as otherwise required by State law.\",\n",
    "\"A county may not require a private contractor under this section to abide by regulations or controls on the contractors employment practices or mandate or prohibit the provision of goods, services, or accommodations to any member of the public as a condition of bidding on a contract or a qualification‐based selection, except as otherwise required by State law.\",\n",
    "\"PROTECTION OF RIGHTS IN EMPLOYMENT AND PUBLIC ACCOMMODATIONS\",\n",
    "\"It is the public policy of this State to protect and safeguard the right and opportunity of all persons to seek, obtain and hold employment without discrimination or abridgement on account of race, religion, color, national origin, age, biological sex or handicap by employers which regularly employ 15 or more employees.\",\n",
    "]\n",
    "\n",
    "NC_HB2 = [\n",
    "\"AN ACT TO provide for single‐sex multiple occupancy bathroom and changing facilities in schools and public agencies and to CREATE statewide consistency in regulation of employment and public ACCOMMODATIONS.\",\n",
    "\"Multiple occupancy bathroom or changing facility.\",\n",
    "\"Single occupancy bathroom or changing facility.\",\n",
    "\"Single‐Sex Multiple Occupancy Bathroom and Changing Facilities.\",\n",
    "\"For custodial purposes.\",\n",
    "\"For maintenance or inspection purposes.\",\n",
    "\"To render medical assistance.\",\n",
    "\"To accompany a student needing assistance when the assisting individual is an employee or authorized volunteer of the local board of education or the students parent or authorized caregiver.\",\n",
    "\"To receive assistance in using the facility.\",\n",
    "\"To accompany a person other than a student needing assistance.\",\n",
    "\"That has been temporarily designated for use by that persons biological sex.\",\n",
    "\"Single‐Sex Multiple Occupancy Bathroom and Changing Facilities.\",\n",
    "\"Executive branch agency.\",\n",
    "\"Multiple occupancy bathroom or changing facility.\",\n",
    "\"Single occupancy bathroom or changing facility. \",\n",
    "\"Single‐Sex Multiple Occupancy Bathroom and Changing Facilities.\",\n",
    "\"Statewide Consistency in laws related to Employment and contracting\",\n",
    "\"The provisions of this Article supersede and preempt any ordinance, regulation, resolution, or policy adopted or imposed by a unit of local government or other political subdivision of the State that regulates or imposes any requirement upon an employer pertaining to compensation of employees, such as the wage levels of employees, hours of labor, payment of earned wages, benefits, leave, or well‐being of minors in the workforce.\",\n",
    "\"local governments preempted.\",\n",
    "\"A city may not require a private contractor under this section to abide by regulations or controls on the contractors employment practices or mandate or prohibit the provision of goods, services, or accommodations to any member of the public as a condition of bidding on a contract or a qualification‐based selection, except as otherwise required by State law.\",\n",
    "\"A county may not require a private contractor under this section to abide by regulations or controls on the contractors employment practices or mandate or prohibit the provision of goods, services, or accommodations to any member of the public as a condition of bidding on a contract or a qualification‐based selection, except as otherwise required by State law.\",\n",
    "\"PROTECTION OF RIGHTS IN EMPLOYMENT AND PUBLIC ACCOMMODATIONS\",\n",
    "\"It is the public policy of this State to protect and safeguard the right and opportunity of all persons to seek, obtain and hold employment without discrimination or abridgement on account of race, religion, color, national origin, age, biological sex or handicap by employers which regularly employ 15 or more employees.\",\n",
    "]\n",
    "\n",
    "SC_SB1203 = ['TO AMEND SECTION 45-9-10 OF THE 1976 CODE, RELATING TO THE RIGHT TO EQUAL ENJOYMENT OF AND PRIVILEGES TO PUBLIC ACCOMMODATIONS, TO ADD A SUBSECTION TO PROVIDE THAT UNITS OF LOCAL GOVERNMENT IN THIS STATE MAY NOT ENACT LOCAL LAWS, ORDINANCES, ORDERS, OR OTHER REGULATIONS THAT REQUIRE A PLACE OF PUBLIC ACCOMMODATION OR A PRIVATE CLUB OR OTHER ESTABLISHMENT NOT IN FACT OPEN TO THE GENERAL PUBLIC TO ALLOW A PERSON TO USE A MULTIPLE OCCUPANCY BATHROOM OR CHANGING FACILITY REGARDLESS OF THE PERSONS BIOLOGICAL SEX;',\n",
    "             'TO AMEND TITLE 10, CHAPTER 1 OF THE 1976 CODE, RELATING TO GENERAL PROVISIONS CONCERNING PUBLIC BUILDINGS AND PROPERTY, BY ADDING ARTICLE 3 TO PROVIDE THAT MULTIPLE OCCUPANCY BATHROOMS AND CHANGING FACILITIES LOCATED ON PUBLIC PROPERTY SHALL BE DESIGNATED FOR AND ONLY USED BY A PERSON BASED ON HIS BIOLOGICAL SEX;' \n",
    "'TO AMEND CHAPTER 23, TITLE 59 OF THE 1976 CODE, RELATING TO SCHOOL BUILDINGS AND OTHER SCHOOL PROPERTY, TO PROVIDE THAT LOCAL SCHOOL BOARDS SHALL REQUIRE EVERY MULTIPLE OCCUPANCY BATHROOM OR CHANGING FACILITY THAT IS DESIGNATED FOR STUDENT USE TO BE DESIGNATED FOR AND USED ONLY BY STUDENTS BASED ON THEIR BIOLOGICAL SEX, AND TO PROVIDE EXEMPTIONS AND DEFINITIONS.', \n",
    "\"Indicates Matter Stricken\",'Indicates New Matter',\n",
    "\"Biological sex means the physical condition of being male or female, which is stated on a persons birth certificate.\", \n",
    "'\"Multiple occupancy bathroom\" or \"changing facility\" means a facility designed or designated to be used by more than one person at a time where persons may be in various states of undress in the presence of other persons. A multiple occupancy bathroom or changing facility may include, but is not limited to, a restroom, locker room, changing room, or shower room.', '\"Single occupancy bathroom\" or \"changing facility\" means a facility designed or designated to be used by only one person at a time where students may be in various states of undress. A single occupancy bathroom or changing facility may include, but is not limited to, a single stall restroom designated as unisex or for use based on biological sex.', 'Units of local government in this State may not enact local laws, ordinances, orders, or other regulations that require a place of public accommodation or a private club or other establishment not in fact open to the general public to allow a person to use a multiple occupancy bathroom or changing facility regardless of the persons biological sex. A local law, ordinance, order, or other regulation enacted by a unit of local government to require a person to use a multiple occupancy bathroom or changing facility designated for his biological sex is not a violation of this chapter and does not constitute discrimination based upon a protected category.', 'This section does not apply to persons entering a multiple occupancy bathroom or changing facility designated for use by the opposite sex:', 'for custodial purposes;','for maintenance or inspection purposes;','to render medical assistance;','to accompany a person in need of medical assistance;','for a minor under the age of seventeen who accompanies a person caring for that minor;','that has been temporarily designated for use by that persons biological sex.\"As used in this article:', 'Biological sex\" means the physical condition of being male or female, which is stated on a persons birth certificate.', 'Multiple occupancy bathroom or changing facility means a facility designed or designated to be used by more than one person at a time where persons may be in various states of undress in the presence of other persons. A multiple occupancy bathroom or changing facility includes, but is not limited to, a restroom, locker room, changing room, or shower room.', '\"Single occupancy bathroom\" or \"changing facility\" means a facility designed or designated to be used by only one person at a time where students may be in various states of undress. A single occupancy bathroom or changing facility includes, but is not limited to, a single stall restroom designated as unisex or for use based on biological sex.', '(A) Multiple occupancy bathrooms and changing facilities located on public property, including but not limited to property owned by the State, its authorities, commissions, departments, committees or agencies, or any political subdivision of the State, shall be designated for and only used by a person based on his biological sex.', '(B) Nothing in this section prohibits public agencies from providing accommodations such as single occupancy bathrooms or changing facilities or controlled use of faculty facilities upon a persons request due to special circumstances. In no event shall such accommodation result in the public agencys allowing a person to use a multiple occupancy bathroom or changing facility as designated in subsection (A) for a sex other than the persons biological sex.', 'This section does not apply to persons entering a multiple occupancy bathroom or changing facility designated for use by the opposite sex:', 'for custodial purposes;','for maintenance or inspection purposes;','to render medical assistance;','to accompany a person in need of medical assistance;','for a minor under the age of seventeen who accompanies a person caring for that minor;','that has been temporarily designated for use by that persons biological sex. As used in this article:', 'Biological sex means the physical condition of being male or female, which is stated on a persons birth certificate.', 'Multiple occupancy bathroom or changing facility means a facility designed or designated to be used by more than one person at a time where students may be in various states of undress in the presence of other persons. A multiple occupancy bathroom or changing facility includes, but is not limited to, a school restroom, locker room, changing room, or shower room.', 'Single occupancy bathroom or changing facility means a facility designed or designated to be used by only one person at a time where students may be in various states of undress. A single occupancy bathroom or changing facility includes, but is not limited to, a single stall restroom designated as unisex or for use based on biological sex.', '(A) Local school boards shall require every multiple occupancy bathroom or changing facility that is designated for student use to be designated for and used only by students based on their biological sex.', '(B) Nothing in this section prohibits a local school board from providing accommodations such as single occupancy bathrooms or changing facilities or controlled use of faculty facilities upon a request due to special circumstances. In no event shall such accommodation result in the local school boards allowing a student to use a multiple occupancy bathroom or changing facility as designated in subsection (A) for a sex other than the students biological sex.', 'This section does not apply to persons entering a multiple occupancy bathroom or changing facility designated for use by the opposite sex:', 'for custodial purposes;','for maintenance or inspection purposes;','to render medical assistance;','to accompany a student needing assistance when the assisting individual is an employee or authorized volunteer of the local school board or the students parent or authorized caregiver;','to receive assistance in using the facility;','to accompany a person other than a student needing assistance;','that has been temporarily designated for use by that persons biological sex.\"If any section, subsection, paragraph, subparagraph, sentence, clause, phrase, or word of this act is for any reason held to be unconstitutional or invalid, such holding shall not affect the constitutionality or validity of the remaining portions of this act, the General Assembly hereby declaring that it would have passed this Act, and each and every section, subsection, paragraph, subparagraph, sentence, clause, phrase, and word thereof, irrespective of the fact that any one or more other sections, subsections, paragraphs, subparagraphs, sentences, clauses, phrases, or words hereof may be declared to be unconstitutional, invalid, or otherwise ineffective.', \n",
    "'This act takes effect upon approval by the Governor.']\n",
    "KY_SB76 = ['AN ACT relating to student privacy.', \"Be it enacted by the General Assembly of the Commonwealth of Kentucky:\", '(1) As used in this section:', 'Biological sex means the physical condition of being male or female, which is determined by a persons chromosomes, and is identified at birth, by a persons anatomy;', \n",
    "           'and \"Public school\" or \"school\" means a school under the control of a local board of education of a local school district.', \n",
    "           'Every school restroom, locker room, and shower room designated for student use accessible by multiple students at the same time shall be designated for and used by male students only or female students only.', \n",
    "           'In every school setting in which a student may be in a state of undress in the presence of other students, school personnel shall provide separate, private areas designated for use by students based on their biological sex.', \n",
    "           'A student who asserts to school officials that his or her gender is different from his or her biological sex and whose parent or legal guardian provides written consent to school officials shall be provided with the best available accommodation, but that accommodation shall not include the use of student restrooms, locker rooms, or shower rooms designated for use by students of the opposite biological sex while students of the opposite biological sex are present or could be present.', \n",
    "           'Acceptable accommodations may include but are not limited to access to single-stall restrooms, access to unisex bathrooms, or controlled use of faculty bathrooms, locker rooms, or shower rooms.', \n",
    "           'Any portion of this section declared invalid shall not affect the validity of the remaining portions of this section.']\n",
    "CO_HB1081 = ['Under current law, a person is subject to a claim of discrimination in places of public accommodation if the person restricts access to a sex-segregated place of public accommodation to individuals based on their biological sex.', 'The bill permits a person to restrict access to a sex-segregated locker room based on an individuals actual, biological sex.', 'Be it enacted by the General Assembly of the State of Colorado:', 'The general assembly finds that:', 'Children and young adults have natural and normal concerns about physical privacy when they are in various states of undress, and most wish for members of the opposite biological sex not to be present in those circumstances;', 'Parents have a reasonable expectation that places of public accommodation in this state that have sex-segregated locker rooms will not allow their minor children to be viewed in various states of undress by members of the opposite biological sex, nor allow their minor children to view members of the opposite biological sex in various states of undress;', 'Allowing individuals to use locker rooms that are reserved for individuals of a different biological sex will create a significant potential for unsafe situations and for an invasion of privacy.', 'In Colorado Revised Statutes, -601, amend () as follows:', 'Notwithstanding any other provisions of this section, it is not a discriminatory practice for a person to restrict admission to a place of public accommodation to individuals of one sex if: such', 'T HE restriction has a bona fide relationship to the goods, services, facilities, privileges, advantages, or accommodations of such', 'T HE PLACE OF PUBLIC ACCOMMODATION IS A SEX- SEGREGATED LOCKER ROOM AND THE RESTRICTION IS BASED ON AN INDIVIDUALS ACTUAL, BIOLOGICAL SEX.', 'The general assembly hereby finds, determines, and declares that this act is necessary for the immediate preservation of the public peace, health, and safety.']\n",
    "SD_HB1008 = ['FOR AN ACT ENTITLED, An Act to restrict access to certain restrooms and locker rooms in public schools.', 'BE IT ENACTED BY THE LEGISLATURE OF THE STATE OF SOUTH DAKOTA:', 'The term, biological sex, as used in this Act, means the physical condition of being male or female as determined by a persons chromosomes and identified at birth by a persons anatomy.', 'Every restroom, locker room, and shower room located in a public elementary or secondary school that is designated for student use and is accessible by multiple students at the same time shall be designated for and used only by students of the same biological sex. In addition, any public school student participating in a school sponsored activity off school premises which includes being in a state of undress in the presence of other students shall use those rooms designated for and used only by students of the same biological sex.', 'If any student asserts that the students gender is different from the students biological sex, and if the students parent or guardian consents to that assertion in writing to a public school administrator, or if the student is an adult or an emancipated minor and makes the assertion in writing to a public school administrator, the student shall be provided with a reasonable accommodation. A reasonable accommodation is one that does not impose an undue hardship on a school district. A reasonable accommodation may not include the use of student restrooms, locker rooms, or shower rooms designated for use by students of the opposite biological sex if students of the opposite biological sex are present or could be present. A reasonable accommodation may include a single-occupancy restroom, a unisex restroom, or the controlled use of a restroom, locker room, or shower room that is designated for use by faculty. The requirement to provide a reasonable accommodation pursuant to this section does not apply to any nonpublic school entity.', 'If any public school district, school district officer or employee, school board, or school board member is sued in state or federal court as a result of a decision based upon and consistent with a students biological sex, notwithstanding any assertion that the students gender is different than the students biological sex, the attorney general shall represent the school district, school district officer or employee, school board, or school board member at no cost to the school district, school district officer or employee, school board, or school board member, and the State of South Dakota shall assume all financial responsibility for the legal expenses. The legal expenses for which the state is responsible include any award for monetary damages or attorneys fees and costs which may be awarded and for which the school district, school district officer or employee, school board, or school board member would otherwise be responsible.']\n",
    "FL_HB0583 = ['providing purpose and legislative findings; creating s. , F.S.; providing definitions; requiring that use of single-sex public facilities be restricted to persons of the sex for which the facility is designated; prohibiting knowingly and willfully entering a single-sex public facility designated for or restricted to persons of the other biological sex; providing criminal penalties; providing exemptions; providing private cause of action against violators; providing for preemption; providing an effective date.', 'The purpose of this act is to secure privacy and safety for all individuals using single-sex public facilities.', 'The Legislature finds that:', 'There is a longstanding history of restricting access to single-sex public facilities on the basis of sex.', 'There is an expectation of privacy in single-sex public facilities.', 'Users of single-sex public facilities reasonably expect not to be exposed to individuals of the other sex while using those facilities.', 'Single-sex public facilities are places of increased vulnerability and present the potential for crimes against individuals using those facilities, including, but not limited to, assault, battery, molestation, rape, voyeurism, and exhibitionism.', \"Public accommodations has the same meaning provided in s. .\", '\"Single-sex public facilities means bathrooms, restrooms, dressing rooms, fitting rooms, locker rooms, showers, and other similar facilities where there is a reasonable expectation of privacy; that are maintained by an owner of public accommodations, a school, or a place of employment; that are conspicuously designated with appropriate signage for use by persons of only one sex; and that are designed or designated to be used by more than one person at a time.', 'Sex means a person s biological sex, either male or female, at birth. For purposes of this paragraph, the term means a person born as a biological male and the term means a person born as a biological female.', 'Single-sex public facilities designated for girls, women, ladies, or persons of the female sex shall be restricted to persons who are biological females.', 'Single-sex public facilities designated for boys, men, gentlemen, or persons of the male sex shall be restricted to persons who are biological males.', 'A person who knowingly and willfully enters a single- sex public facility designated for or restricted to persons of the other biological sex commits a misdemeanor of the first degree, punishable as provided in s. or s. .', 'This section does not apply to public facilities that are conspicuously designated for unisex or family use.', 'This section does not apply to public facilities that are designated to be used by only one person at a time.', 'This section does not require any place of public accommodation, school, or place of employment to construct or maintain single-sex public facilities or to modify existing public facilities.', 'Restricting access to single-sex public facilities in the manner required by subsection () may not be deemed unlawful discrimination under s. .', 'A person who knowingly and willfully enters a single- sex public facility designated for the other biological sex is liable in a civil action to any person who is lawfully using the same single-sex public facility at the time of the unlawful entry for the damages caused by the unlawful entry, together with reasonable attorney fees and costs.', 'An owner of public accommodations, a school, or a place of employment who maintains single-sex public facilities and advertises, promotes, or encourages use of those facilities in violation of subsection (), or fails to take reasonable remedial measures after learning of such use, is liable in a civil action to any person who is lawfully using those facilities at the time of the unlawful entry for the damages caused by the unlawful entry, together with reasonable attorney fees and costs.', 'This section preempts any law, regulation, policy, or decree enacted or adopted by any city, county, municipality, or other political subdivision within the state that purports to permit or require owners of public accommodations, schools, or places of employment to permit use of single-sex public facilities by persons whose biological sex is different from the sex for which such facilities are designated.']\n",
    "TN_HB2414 = ['AN ACT to amend Tennessee Code Annotated, Title 49, relative to student restrooms and locker rooms.', 'Public schools shall require that a student use student restroom and locker room facilities that are assigned for use by persons of the same sex as the sex indicated on the students original birth certificate.', 'Public institutions of higher education shall require that a student use the restroom and locker room facilities that are assigned for use by persons of the same sex as the sex indicated on the student’s original birth certificate.', 'This act shall take effect upon becoming a law, the public welfare requiring it.']\n",
    "MN_HF0041 = ['A bill for an act relating to education; establishing the Student Physical Privacy Act; proposing coding for new law in Minnesota Statutes, chapter 121A.', 'BE IT ENACTED BY THE LEGISLATURE OF THE STATE OF MINNESOTA:', 'The purpose of this section is to protect and provide for the privacy and safety of all students enrolled in public schools and to maintain order and dignity in restrooms, locker rooms, changing rooms, showers, and other facilities where students may be in various states of undress in the presence of other students.', 'For the purposes of this section, the following terms have the meanings given them.', '\"Sex\" means the physical condition of being male or female, which is determined by a persons chromosomes and is identified at birth by a persons anatomy.', 'Public school means a public school under section 120A.05, subdivisions 9, 11, 13, and 17, and a charter school under chapter 124E.', 'A public school student restroom, locker room, changing room, and shower room accessible by multiple students at the same time shall be designated for the exclusive use by students of the male sex only or by students of the female sex only.', 'A public school student restroom, locker room, changing room, and shower room that is designated for the exclusive use of one sex shall be used only by members of that sex.', 'In any other public school facility or setting where a student may be in a state of undress in the presence of other students, school personnel shall provide separate, private, and safe areas designated for use by students based on their sex.', 'Nothing in this section shall prohibit public schools from providing accommodation such as single-occupancy facilities or controlled use of faculty facilities upon a student request due to special circumstances, but in no event shall that accommodation result in a public school allowing a student to use a facility designated under paragraph (b) for a sex other than the students own sex.']\n",
    "KS_HB2737 = ['AN ACT concerning school districts; creating the student physical privacy act.', 'Be it enacted by the Legislature of the State of Kansas:', 'The provisions of sections 1 through 7, and amendments thereto, shall be known and may be cited as the student physical privacy act.', 'The legislature hereby finds and declares:', 'Children and young adults have natural and normal concerns about physical privacy when they are in various states of undress, and most wish for members of the opposite sex not to be present in those circumstances.', 'Parents have a reasonable expectation that public schools in this state will not allow their minor children to be viewed in various states of undress by members of the opposite sex, nor allow their minor children to view members of the opposite sex in various states of undress.', 'Young adults have a reasonable expectation that postsecondary educational institutions in this state will not allow their students to be viewed in various states of undress by members of the opposite sex while using student restrooms, locker rooms and showers.', 'Public schools and postsecondary educational institutions in this state have a duty to protect the dignity, health and welfare of the students in their care.', 'Allowing students to use restrooms, locker rooms and showers that are reserved for students of a different sex will create a significant potential for disruption of educational activities and unsafe situations.', 'Allowing students to use restrooms, locker rooms and showers that are reserved for students of a different sex will create potential embarrassment, shame and psychological injury to students.', 'Public schools and postsecondary educational institutions have a duty to respect and protect the privacy rights of their students. Courts have recognized a constitutional right to privacy that includes a right not to be compelled by the government to undress or be unclothed in the presence of members of the opposite sex.', 'See, e.g., Cumbey v. Meachum, 684 F.2d 712 (10 th Cir. 1982); Lee v. Downs, 641 F.2d 1117 (4t h Cir. 1981);', 'York v. Story, 324 F.2d 450 (9 th Cir. 1963).', 'The purposes of this act are:', 'To further the states interest in protecting all students in public schools and postsecondary educational institutions in this state;', 'To provide for the privacy needs of all students in public schools and postsecondary educational institutions in this state;', 'To maintain order and dignity in restrooms, locker rooms, showers and other facilities where students may be in various states of undress in the presence of other students.', 'Sex means the physical condition of being male or female, which is determined by a persons chromosomes, and is identified at birth by a persons anatomy.', 'Postsecondary educational institution shall have the same meaning as that term is defined in K.S.A. 74-3201b, and amendments thereto.', 'Public school means a school operated by a unified school district organized under the laws of this state.', 'Every public school and postsecondary educational institution student restroom, locker room and shower room accessible by multiple students at the same time shall be designated for use by male students only or female students only.', 'In all public schools and postsecondary educational institutions in this state, student restrooms, locker rooms and showers that are designated for one sex shall be used only by members of that sex.', 'In any other public school facility, postsecondary educational institution facility or setting not specified in subsection where a student may be in a state of undress in the presence of other students, school or institution personnel shall provide separate, private areas designated for use by students based on their sex.', 'Students who, for any reason, desire greater privacy when using a public school or postsecondary educational institution restroom, locker room or shower room, and whose parents or legal guardians provide written consent to school or institution officials, may submit a request to such officials for access to alternative facilities. The school or institution official to whom a request is submitted shall evaluate such request and shall, to the extent reasonable, offer options for alternative facilities. In no event shall any accommodation be an access to student restrooms, locker rooms or shower rooms designated for use by students of the opposite sex while students of the opposite sex are present or could be present.', 'Acceptable accommodations may include, but are not limited to: Access to single-stall bathrooms; access to unisex bathrooms; or controlled use of faculty bathrooms, locker rooms or shower rooms.', 'Students who access a public school or postsecondary educational institution restroom, locker room or shower room designated for use by such students sex have a right not to encounter a person of the opposite sex.', 'Students who, while accessing a public school or postsecondary educational institution student restroom, locker room or shower room designated for use by such students sex, encounter a person of the opposite sex, have a private cause of action against the school district or postsecondary educational institution, if:', 'The public school or postsecondary educational institution gave such person of the opposite sex permission to use facilities designated for use by such students sex;', 'the public school or postsecondary educational institution failed to take reasonable steps to prohibit such person of the opposite sex from using facilities designated for use by such students sex.', 'A cause of action brought pursuant to this section shall be brought in either the state district court or the federal district court for the jurisdiction where either the student resides at the time such action is filed, or where the public school or postsecondary educational institution is located.', 'No cause of action may be brought pursuant to this section more than four years after a violation of subsection occurred.', 'Students aggrieved under this section may obtain appropriate relief, which shall include:', 'Statutory damages in an amount of $2,500 for each instance in which the aggrieved student encountered a person of the opposite sex while accessing a public school or postsecondary educational institution student restroom, locker room or shower room designated for use by the aggrieved students sex;', 'monetary damages for all psychological, emotional and physical harm suffered as a result of a violation of this section;', 'reasonable attorney fees and costs;', 'and such other relief as the court deems appropriate.', 'If any provision of sections 1 through 6, and amendments thereto, or its application to any person or circumstance is held invalid, the invalidity shall not affect any other provision or application of sections 1 through 6, and amendments thereto, which can be given effect without the invalid provision or application. To this end the provisions of sections 1 through 6, and amendments thereto, are severable.', 'This act shall take effect and be in force from and after its publication in the statute book.']\n",
    "NV_AB375 = ['providing certain requirements for school facilities that are designated for use by persons of one biological sex; and providing other matters properly relating thereto.', 'Any school facility in a public school, including, without limitation, a restroom, locker room or shower which is designated for use by persons of one biological sex must only be used by persons of that biological sex.', 'In any school facility or setting where a pupil may be in a state of undress in the presence of other pupils, a public school shall provide separate, private areas designated for use by pupils based on their biological sex.', 'For any pupil who asserts at school a gender that is different than the pupils biological sex, a public school shall provide the best available accommodation that meets the needs of the pupil, but such accommodation must not include access to a school restroom, locker room or shower designated for use by persons whose biological sex is different from the pupils biological sex. Such accommodation may include, without limitation, access to a single-stall restroom, access to a unisex restroom or controlled use of a faculty restroom, locker room or shower.', 'As used in this section, biological sex means the biological condition of being male or female as determined at birth based on physical differences or, if necessary, at the chromosomal level.', 'Except as otherwise provided in section 1 of this act, all persons are entitled to the full and equal enjoyment of the goods, services, facilities, privileges, advantages and accommodations of any place of public accommodation, without discrimination or segregation on the ground of race, color, religion, national origin, disability, sexual orientation, sex, gender identity or expression.', 'This act becomes effective upon passage and approval for the purpose of adopting any regulations and performing any other preparatory administrative tasks to carry out the provisions of this act, and on January 1, 2016, for all other purposes.']\n",
    "\n",
    "# MN_SF1543 = \n"
   ]
  },
  {
   "cell_type": "code",
   "execution_count": 26,
   "metadata": {},
   "outputs": [],
   "source": [
    "bills = {\"NC_HB2\":NC_HB2,\"TX_HB2801\":TX_HB2801,\"SC_SB1203\":SC_SB1203,\"KY_SB76\":KY_SB76,\n",
    "         \"CO_HB1081\":CO_HB1081,\"SD_HB1008\":SD_HB1008,\"FL_HB0583\":FL_HB0583,\"TN_HB2414\":TN_HB2414,\n",
    "         \"MN_HF0041\":MN_HF0041,\"KS_HB2737\":KS_HB2737,\"NV_AB375\":NV_AB375}"
   ]
  },
  {
   "cell_type": "code",
   "execution_count": 42,
   "metadata": {},
   "outputs": [],
   "source": [
    "comparisons = []\n",
    "max_len = 0 \n",
    "for sppa_segment in sppa:\n",
    "    sppa_embedding = sbert.encode(sppa_segment.lower())\n",
    "    for bill in bills.keys():\n",
    "        for bill_segment in bills[bill]:\n",
    "            # Make sure embeddings are not cropping text segment \n",
    "            try:\n",
    "                o = sbert.tokenizer(bill_segment, return_attention_mask=False, return_token_type_ids=False)\n",
    "                if len(o[\"input_ids\"]) > sbert.max_seq_length:\n",
    "                    print(len(o[\"input_ids\"]))\n",
    "                    raise ValueError(\"Segment is longer than context window.\")\n",
    "                # Calculate embeddings and cosine similarity\n",
    "                bill_embedding = sbert.encode(bill_segment.lower())\n",
    "            except ValueError as e:\n",
    "                print(e)\n",
    "            cos_score = util.cos_sim(sppa_embedding.reshape(1, -1), bill_embedding.reshape(1, -1))[0][0]\n",
    "            \n",
    "            if len(bill_segment) >= len(sppa_segment):\n",
    "                max_len = len(bill_segment)\n",
    "            else:\n",
    "                max_len = len(sppa_segment)\n",
    "\n",
    "            # Calculate raw Smith-Waterman score\n",
    "            sw_score = sw.get_alignment_score(sppa_segment.lower(), bill_segment.lower())/max_len\n",
    "\n",
    "            # Calculate Jaccard Similiarity\n",
    "            jaccard = jaccard_similarity(sppa_segment.lower(), bill_segment.lower())\n",
    "\n",
    "            # Only store if greater than certain value\n",
    "            if sw_score > 0.4:\n",
    "                # Store vals in array\n",
    "                comparisons.append([bill, float(cos_score), sw_score, sppa_segment, bill_segment, jaccard])"
   ]
  },
  {
   "cell_type": "code",
   "execution_count": 43,
   "metadata": {},
   "outputs": [
    {
     "name": "stdout",
     "output_type": "stream",
     "text": [
      "Cosine Similarity: 0.9740\n",
      "Jaccard: 0.9118\n",
      "S-W:0.7767857142857143\n",
      "SPPA segment: Children and young adults have natural and normal concerns about physical privacy when they are in various states of undress, and most wish for members of the opposite sex not to be present in those circumstances.\n",
      "CO_HB1081 segment: Children and young adults have natural and normal concerns about physical privacy when they are in various states of undress, and most wish for members of the opposite biological sex not to be present in those circumstances;\n",
      "--------------------------------------------------\n",
      "Cosine Similarity: 1.0000\n",
      "Jaccard: 1.0000\n",
      "S-W:1.0\n",
      "SPPA segment: Children and young adults have natural and normal concerns about physical privacy when they are in various states of undress, and most wish for members of the opposite sex not to be present in those circumstances.\n",
      "KS_HB2737 segment: Children and young adults have natural and normal concerns about physical privacy when they are in various states of undress, and most wish for members of the opposite sex not to be present in those circumstances.\n",
      "--------------------------------------------------\n",
      "Cosine Similarity: 1.0000\n",
      "Jaccard: 1.0000\n",
      "S-W:1.0\n",
      "SPPA segment: Parents have a reasonable expectation that public schools in this State will not allow their minor children to be viewed in various states of undress by members of the opposite sex, nor allow their minor children to view members of the opposite sex in various states of undress.\n",
      "KS_HB2737 segment: Parents have a reasonable expectation that public schools in this state will not allow their minor children to be viewed in various states of undress by members of the opposite sex, nor allow their minor children to view members of the opposite sex in various states of undress.\n",
      "--------------------------------------------------\n",
      "Cosine Similarity: 0.9657\n",
      "Jaccard: 0.7647\n",
      "S-W:0.5939849624060151\n",
      "SPPA segment: To further the States interest in protecting all students in public schools in this State;\n",
      "KS_HB2737 segment: To further the states interest in protecting all students in public schools and postsecondary educational institutions in this state;\n",
      "--------------------------------------------------\n",
      "Cosine Similarity: 1.0000\n",
      "Jaccard: 1.0000\n",
      "S-W:1.0\n",
      "SPPA segment: Sex means the physical condition of being male or female, which is determined by a persons chromosomes, and is identified at birth by a persons anatomy.\n",
      "KS_HB2737 segment: Sex means the physical condition of being male or female, which is determined by a persons chromosomes, and is identified at birth by a persons anatomy.\n",
      "--------------------------------------------------\n",
      "Cosine Similarity: 0.9912\n",
      "Jaccard: 0.8919\n",
      "S-W:0.7272727272727273\n",
      "SPPA segment: In any other public school facility or setting where a student may be in a state of undress in the presence of other students, school personnel shall provide separate, private areas designated for use by students based on their sex.\n",
      "MN_HF0041 segment: In any other public school facility or setting where a student may be in a state of undress in the presence of other students, school personnel shall provide separate, private, and safe areas designated for use by students based on their sex.\n",
      "--------------------------------------------------\n",
      "Cosine Similarity: 0.9891\n",
      "Jaccard: 0.8462\n",
      "S-W:0.5867346938775511\n",
      "SPPA segment: Acceptable accommodations may include, but are not limited to: access to single-stall bathrooms; access to uni-sex bathrooms; or controlled use of faculty bathrooms, locker rooms, or shower rooms.\n",
      "KS_HB2737 segment: Acceptable accommodations may include, but are not limited to: Access to single-stall bathrooms; access to unisex bathrooms; or controlled use of faculty bathrooms, locker rooms or shower rooms.\n",
      "--------------------------------------------------\n"
     ]
    }
   ],
   "source": [
    "for item in comparisons:\n",
    "    print(f\"Cosine Similarity: {item[1]:.4f}\")\n",
    "    print(f\"Jaccard: {item[5]:.4f}\")\n",
    "    print(f\"S-W:{item[2]}\")\n",
    "    print(f\"SPPA segment: {item[3]}\")\n",
    "    print(f\"{item[0]} segment: {item[4]}\")\n",
    "    print(\"-\" * 50)"
   ]
  },
  {
   "cell_type": "code",
   "execution_count": null,
   "metadata": {},
   "outputs": [],
   "source": []
  },
  {
   "cell_type": "code",
   "execution_count": null,
   "metadata": {},
   "outputs": [],
   "source": []
  },
  {
   "cell_type": "code",
   "execution_count": 48,
   "metadata": {},
   "outputs": [],
   "source": [
    "# sppa = '''\n",
    "# Children and young adults have natural and normal concerns about physical privacy when they are in various states of undress, and most wish for members of the opposite sex not to be present in those circumstances.\n",
    "# Parents have a reasonable expectation that public schools in this State will not allow their minor children to be viewed in various states of undress by members of the opposite sex, nor allow their minor children to view members of the opposite sex in various states of undress.\n",
    "# Public schools in this State have a duty to protect the dignity, health and welfare of the students in their care.\n",
    "# Allowing students to use restrooms, locker rooms, and showers that are reserved for students of a different sex will create a significant potential for disruption of school activities and unsafe situations.\n",
    "# Allowing students to use restrooms, locker rooms, and showers that are reserved for students of a different sex will create potential embarrassment, shame, and psychological injury to students.\n",
    "# Public schools have a duty to respect and protect the privacy rights of their students.\n",
    "# To further the State’s interest in protecting all students in public schools in this State;\n",
    "# To provide for the privacy needs of all students in public schools in this State; and to maintain order and dignity in restrooms, locker rooms, showers, and other facilities where students may be in various states of undress in the presence of other students.\n",
    "# “Sex” means the physical condition of being male or female, which is determined by a person’s chromosomes, and is identified at birth by a person’s anatomy.\n",
    "# “Public school” means a school subject to [INSERT RELEVANT CODE PROVISION AUTHORIZING THE CREATION AND SUPERVISION OF PUBLIC SCHOOLS].\n",
    "# Every public school student restroom, locker room, and shower room accessible by multiple students at the same time shall be designated for use by male students only or female students only.\n",
    "# In all public schools in this State, student restrooms, locker rooms, and showers that are designated for one sex shall be used only by members of that sex.\n",
    "# In any other public school facility or setting where a student may be in a state of undress in the presence of other students, school personnel shall provide separate, private areas designated for use by students based on their sex.\n",
    "# Students who consistently assert to school officials that their gender is different from their sex, and whose parent or legal guardian provides written consent to school officials, shall be provided with the best available accommodation, but in no event shall that accommodation be access to student restrooms, locker rooms, or shower rooms designated for use by students of the opposite sex while students of the opposite sex are present or could be present.\n",
    "# Acceptable accommodations may include, but are not limited to: access to single-stall bathrooms; access to uni-sex bathrooms; or controlled use of faculty bathrooms, locker rooms, or shower rooms.\n",
    "# Students who access a public school restroom, locker room, or shower room designated for use by their sex have a right not to encounter a person of the opposite sex.\n",
    "# Students aggrieved under this section who prevail in court may recover from the offending public school $2,500 for each instance in which they encountered a person of the opposite sex while accessing a public school student restroom, locker room, or shower room designated for use by the aggrieved students’ sex.\n",
    "# They may also recover monetary damages from the offending public school for all psychological, emotional, and physical harm suffered.\n",
    "# Nothing in this Section shall limit other remedies at law or equity available to the aggrieved student against the school.\n",
    "# '''\n",
    "\n",
    "# NC_HB2 = '''\n",
    "# AN ACT TO provide for single‐sex multiple occupancy bathroom and changing facilities in schools and public agencies and to CREATE statewide consistency in regulation of employment and public ACCOMMODATIONS.\n",
    "# Multiple occupancy bathroom or changing facility.\n",
    "# Single occupancy bathroom or changing facility.\n",
    "# Single‐Sex Multiple Occupancy Bathroom and Changing Facilities.\n",
    "# For custodial purposes.\n",
    "# For maintenance or inspection purposes.\n",
    "# To render medical assistance.\n",
    "# To accompany a student needing assistance when the assisting individual is an employee or authorized volunteer of the local board of education or the student's parent or authorized caregiver.\n",
    "# To receive assistance in using the facility.\n",
    "# To accompany a person other than a student needing assistance.\n",
    "# That has been temporarily designated for use by that person's biological sex.\n",
    "# Single‐Sex Multiple Occupancy Bathroom and Changing Facilities.\n",
    "# Executive branch agency.\n",
    "# Multiple occupancy bathroom or changing facility.\n",
    "# Single occupancy bathroom or changing facility.\n",
    "# Single‐Sex Multiple Occupancy Bathroom and Changing Facilities.\n",
    "# Statewide Consistency in laws related to Employment and contracting\n",
    "# The provisions of this Article supersede and preempt any ordinance, regulation, resolution, or policy adopted or imposed by a unit of local government or other political subdivision of the State that regulates or imposes any requirement upon an employer pertaining to compensation of employees, such as the wage levels of employees, hours of labor, payment of earned wages, benefits, leave, or well‐being of minors in the workforce.\n",
    "# local governments preempted.\n",
    "# A city may not require a private contractor under this section to abide by regulations or controls on the contractor's employment practices or mandate or prohibit the provision of goods, services, or accommodations to any member of the public as a condition of bidding on a contract or a qualification‐based selection except as otherwise required by State law.\n",
    "# A county may not require a private contractor under this section to abide by regulations or controls on the contractor's employment practices or mandate or prohibit the provision of goods, services, or accommodations to any member of the public as a condition of bidding on a contract or a qualification‐based selection except as otherwise required by State law.\n",
    "# PROTECTION OF RIGHTS IN EMPLOYMENT AND PUBLIC ACCOMMODATIONS\n",
    "# It is the public policy of this State to protect and safeguard the right and opportunity of all persons to seek, obtain and hold employment without discrimination or abridgement on account of race, religion, color, national origin, age, biological sex or handicap by employers which regularly employ 15 or more employees.\n",
    "# '''\n",
    "\n",
    "# TX_HB2801 = '''\n",
    "# relating to the use of a bathroom, locker room, or shower facility in a public school.\n",
    "# A school district shall adopt a policy providing that only persons of the same biological sex may be present at the same time in any bathroom, locker room, or shower facility in a building owned by the district.\n",
    "# A school district shall provide reasonable alternate bathroom, locker room, or shower facility accommodations to a student if: the student asserts a gender identity that is different from the student's biological sex;\n",
    "# and the student's parent or guardian consents in writing to the provision of alternate accommodations.\n",
    "# A school district must comply with the policy adopted under Section 38.251 in providing alternate accommodations under Subsection (a).\n",
    "# This section does not require a school district to construct, maintain, or modify a bathroom, locker room, or shower facility to provide any alternate accommodations required under Subsection (a).\n",
    "# A school district is liable to a student who encounters a person not of the student's biological sex in a bathroom, locker room, or shower facility that is designated for use by persons of the student's biological sex if any employee of the district\n",
    "# (1) knew that the person was not of the same biological sex for which the bathroom, locker room, or shower facility was designated;\n",
    "# and (2) permitted the person to enter or failed to take reasonable steps to prevent the person from entering the bathroom, locker room, or shower facility.\n",
    "# It is a defense to liability under this section that the person entered the bathroom, locker room, or shower facility for a custodial purpose, for the purpose of repairing the facility, to give medical assistance, or to supervise or assist a student.\n",
    "# A student who prevails in a suit under this section shall be awarded:\n",
    "# (1) exemplary damages in the amount of $2,000; (2) actual damages, including damages for mental anguish even if an injury other than mental anguish is not shown;\n",
    "# (3) court costs; and (4) reasonable attorney's fees.\n",
    "# The cause of action created by this section is cumulative of any other remedy provided by common law or statute.\n",
    "# This section does not override the immunity from personal liability granted in Section 22.0511 or other law.\n",
    "# This subchapter does not prohibit a school district from constructing or maintaining a bathroom, locker room, or shower facility designed for use by only one person at a time or from modifying existing facilities for that use.\n",
    "# '''"
   ]
  }
 ],
 "metadata": {
  "kernelspec": {
   "display_name": "anlp",
   "language": "python",
   "name": "python3"
  },
  "language_info": {
   "codemirror_mode": {
    "name": "ipython",
    "version": 3
   },
   "file_extension": ".py",
   "mimetype": "text/x-python",
   "name": "python",
   "nbconvert_exporter": "python",
   "pygments_lexer": "ipython3",
   "version": "3.11.4"
  }
 },
 "nbformat": 4,
 "nbformat_minor": 2
}
